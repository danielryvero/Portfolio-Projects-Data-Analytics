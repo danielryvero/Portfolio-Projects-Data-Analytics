{
 "cells": [
  {
   "cell_type": "markdown",
   "id": "d9682430",
   "metadata": {},
   "source": [
    "## Web Scraping an Amazon page"
   ]
  },
  {
   "cell_type": "markdown",
   "id": "57433043",
   "metadata": {},
   "source": [
    "In this useful project we are going to explore the basis of \n",
    "Web Scraping and the packages needed to do so.\n",
    "\n",
    "We are going to pull information (specifically the name of the \n",
    "product and its price) directly from this link:\n",
    "https://www.amazon.es/Apple-2023-MacBook-Port%C3%A1til-Chip/dp/B0CM66W4YT/ref=sr_1_3?dib=eyJ2IjoiMSJ9._jo4OKaENbblzd-M4KhXK3ZG4b69ZnUcgyHF9stQ9OH0Rga97Ck6KxIBBZca2iCvgCRiwsg8Zwa5L5e6OVcuCnWfDavA4MPkOaz3FLp3Hwa3E3WSr5-je4Y1Evoi4CrPhZlm0PV9W5OOnRVgNgYEXo_w37TEpIDNDsyHQP3fhNNjLwMBFpq2g9MPMTS2HWjdv8CUtyaK4OCKiDJE8pYpzK1ZsNqK2zfObivFl1QJIbr-aYF_yz8Ye7CWVdB4R_R2eyn7pp1wYvn9dQC5WOnr-9QcT9QmMR6hE96iXrvsGSQ.T11mhfbKDSFalrPaYaWW0qizxMjOdi97WMu1KHNncf0&dib_tag=se&keywords=macbook+pro&qid=1709839898&s=computers&sr=1-3\n",
    "\n",
    "Then we are going to save the information in a csv file in our local machine."
   ]
  },
  {
   "cell_type": "code",
   "execution_count": 1,
   "id": "85df4bcd",
   "metadata": {},
   "outputs": [],
   "source": [
    "from bs4 import BeautifulSoup\n",
    "import requests\n",
    "import time\n",
    "import datetime\n"
   ]
  },
  {
   "cell_type": "code",
   "execution_count": 2,
   "id": "4a67cb16",
   "metadata": {},
   "outputs": [],
   "source": [
    "# Connect to Website selected\n",
    "url = \"https://www.amazon.es/Apple-2023-MacBook-Port%C3%A1til-Chip/dp/B0CM66W4YT/ref=sr_1_3?dib=eyJ2IjoiMSJ9._jo4OKaENbblzd-M4KhXK3ZG4b69ZnUcgyHF9stQ9OH0Rga97Ck6KxIBBZca2iCvgCRiwsg8Zwa5L5e6OVcuCnWfDavA4MPkOaz3FLp3Hwa3E3WSr5-je4Y1Evoi4CrPhZlm0PV9W5OOnRVgNgYEXo_w37TEpIDNDsyHQP3fhNNjLwMBFpq2g9MPMTS2HWjdv8CUtyaK4OCKiDJE8pYpzK1ZsNqK2zfObivFl1QJIbr-aYF_yz8Ye7CWVdB4R_R2eyn7pp1wYvn9dQC5WOnr-9QcT9QmMR6hE96iXrvsGSQ.T11mhfbKDSFalrPaYaWW0qizxMjOdi97WMu1KHNncf0&dib_tag=se&keywords=macbook+pro&qid=1709839898&s=computers&sr=1-3\"\n",
    "\n",
    "# Use headers to ensure that the scraper gets the most relevant and high-quality data\n",
    "# header available in https://httpbin.org/get\n",
    "headers = {\"User-Agent\": \"Mozilla/5.0 (Macintosh; Intel Mac OS X 10_15_7) AppleWebKit/537.36 (KHTML, like Gecko) Chrome/122.0.0.0 Safari/537.36\"}\n",
    "\n",
    "# Send a GET request for the url\n",
    "page = requests.get(url, headers = headers)"
   ]
  },
  {
   "cell_type": "code",
   "execution_count": 3,
   "id": "75662036",
   "metadata": {},
   "outputs": [
    {
     "name": "stdout",
     "output_type": "stream",
     "text": [
      "Apple 2023 MacBook Pro Portátil con Chip M3 Pro: CPU de 11 núcleos, GPU de 14 núcleos, Pantalla Liquid Retina XDR de 14,2 Pulgadas, 18 GB de Memoria unificada, 512 GB de SSD, Plata, Teclado portugués\n"
     ]
    }
   ],
   "source": [
    "# Start using BeautifulSoup to pull the html code from the page\n",
    "soup = BeautifulSoup(page.content, \"html.parser\")\n",
    "\n",
    "# Take a better look at the hmtl extracted\n",
    "soup = BeautifulSoup(soup.prettify(), 'html.parser')\n",
    "\n",
    "# Now we are going to extract the name of the product after doing an inspection\n",
    "# in the page and getting the name of the id needed for the title\n",
    "# get_text method is used to fet rid of the html code around the title information\n",
    "\n",
    "title = soup.find(id='productTitle').get_text().strip()\n",
    "print(title)"
   ]
  },
  {
   "cell_type": "code",
   "execution_count": 4,
   "id": "d7d20bca",
   "metadata": {},
   "outputs": [
    {
     "name": "stdout",
     "output_type": "stream",
     "text": [
      "2599\n"
     ]
    }
   ],
   "source": [
    "# Pull the price in, similar way we obtained the title, pulling only the price\n",
    "price = soup.find_all('span', class_='a-price-whole')[0].get_text().strip().rstrip(',').replace('.', '')\n",
    "price = int(price)\n",
    "\n",
    "print (price)"
   ]
  },
  {
   "cell_type": "code",
   "execution_count": 5,
   "id": "09ccb010",
   "metadata": {},
   "outputs": [
    {
     "data": {
      "text/plain": [
       "int"
      ]
     },
     "execution_count": 5,
     "metadata": {},
     "output_type": "execute_result"
    }
   ],
   "source": [
    "type(price)"
   ]
  },
  {
   "cell_type": "code",
   "execution_count": 6,
   "id": "d462623b",
   "metadata": {},
   "outputs": [
    {
     "name": "stdout",
     "output_type": "stream",
     "text": [
      "2024-03-09\n"
     ]
    }
   ],
   "source": [
    "# Using datetime library we can set the date into the file\n",
    "today = datetime.date.today()\n",
    "\n",
    "print(today)"
   ]
  },
  {
   "cell_type": "code",
   "execution_count": 7,
   "id": "112bba28",
   "metadata": {},
   "outputs": [
    {
     "name": "stdout",
     "output_type": "stream",
     "text": [
      " 11:38:18\n"
     ]
    }
   ],
   "source": [
    "# Using datetime library we can set timestamp into the file\n",
    "# now = datetime.datetime.now()\n",
    "# now = now.isoformat(timespec=\"seconds\")\n",
    "now=datetime.datetime.now().isoformat(sep=\" \", timespec=\"seconds\")[10:]\n",
    "print(now)"
   ]
  },
  {
   "cell_type": "markdown",
   "id": "bdae5253",
   "metadata": {},
   "source": [
    "### Create csv and insert data into it"
   ]
  },
  {
   "cell_type": "code",
   "execution_count": 8,
   "id": "f6e55284",
   "metadata": {},
   "outputs": [
    {
     "data": {
      "text/plain": [
       "list"
      ]
     },
     "execution_count": 8,
     "metadata": {},
     "output_type": "execute_result"
    }
   ],
   "source": [
    "# For that we must set main parameters\n",
    "header = ['Title', 'Price EUR', 'Date','Time']\n",
    "data = [title, price, today, now]\n",
    "\n",
    "type(data)"
   ]
  },
  {
   "cell_type": "code",
   "execution_count": 9,
   "id": "9fce9cb9",
   "metadata": {},
   "outputs": [],
   "source": [
    "# Create csv, define mode of operation, and how to write content to it\n",
    "# the we define what contents to write to it. Module csv will allow us\n",
    "# to create a file and define how to create newlines and encoding\n",
    "import csv\n",
    "\n",
    "with open ('AmazonWebScraping.csv', mode ='w', newline='', encoding='UTF8') as scraped_data:\n",
    "    writer = csv.writer(scraped_data)\n",
    "    writer.writerow(header)\n",
    "    writer.writerow(data)\n",
    "    "
   ]
  },
  {
   "cell_type": "code",
   "execution_count": 10,
   "id": "9f62cc35",
   "metadata": {},
   "outputs": [
    {
     "name": "stdout",
     "output_type": "stream",
     "text": [
      "                                                    Price EUR        Date  \\\n",
      "Title                                                                       \n",
      "Apple 2023 MacBook Pro Portátil con Chip M3 Pro...       2599  2024-03-09   \n",
      "\n",
      "                                                         Time  \n",
      "Title                                                          \n",
      "Apple 2023 MacBook Pro Portátil con Chip M3 Pro...   11:38:18  \n"
     ]
    }
   ],
   "source": [
    "# Read generated csv file using Pandas\n",
    "import pandas as pd\n",
    "import os\n",
    "df = pd.read_csv(r'/Users/danielsmacbookpro/Documents/Coding/Data Analysis Undemy/AmazonWebScraping.csv', index_col = 0)\n",
    "print(df)"
   ]
  },
  {
   "cell_type": "code",
   "execution_count": 11,
   "id": "344c4083",
   "metadata": {},
   "outputs": [],
   "source": [
    "# Previous code is for creating a csv with only 1 row. Let's make it possible \n",
    "# to append other rows to the existing file.\n",
    "with open ('AmazonWebScraping.csv', mode ='a+', newline='', encoding='UTF8') as scraped_data:\n",
    "    writer = csv.writer(scraped_data)\n",
    "    writer.writerow(data)\n",
    "    "
   ]
  },
  {
   "cell_type": "code",
   "execution_count": 12,
   "id": "6a003635",
   "metadata": {},
   "outputs": [],
   "source": [
    "# We can automate the process of checking the price with a function\n",
    "\n",
    "def check_price():\n",
    "    url = \"https://www.amazon.es/Apple-2023-MacBook-Port%C3%A1til-Chip/dp/B0CM66W4YT/ref=sr_1_3?dib=eyJ2IjoiMSJ9._jo4OKaENbblzd-M4KhXK3ZG4b69ZnUcgyHF9stQ9OH0Rga97Ck6KxIBBZca2iCvgCRiwsg8Zwa5L5e6OVcuCnWfDavA4MPkOaz3FLp3Hwa3E3WSr5-je4Y1Evoi4CrPhZlm0PV9W5OOnRVgNgYEXo_w37TEpIDNDsyHQP3fhNNjLwMBFpq2g9MPMTS2HWjdv8CUtyaK4OCKiDJE8pYpzK1ZsNqK2zfObivFl1QJIbr-aYF_yz8Ye7CWVdB4R_R2eyn7pp1wYvn9dQC5WOnr-9QcT9QmMR6hE96iXrvsGSQ.T11mhfbKDSFalrPaYaWW0qizxMjOdi97WMu1KHNncf0&dib_tag=se&keywords=macbook+pro&qid=1709839898&s=computers&sr=1-3\"\n",
    "    \n",
    "    headers = {\"User-Agent\": \"Mozilla/5.0 (Macintosh; Intel Mac OS X 10_15_7) AppleWebKit/537.36 (KHTML, like Gecko) Chrome/122.0.0.0 Safari/537.36\"}\n",
    "\n",
    "    page = requests.get(url, headers = headers)\n",
    "    \n",
    "    soup = BeautifulSoup(page.content, \"html.parser\")\n",
    "\n",
    "    soup = BeautifulSoup(soup.prettify(), 'html.parser')\n",
    "\n",
    "    title = soup.find(id='productTitle').get_text().strip()\n",
    "\n",
    "    price = soup.find_all('span', class_='a-price-whole')[0].get_text().strip().rstrip(',').replace('.', '')\n",
    "    \n",
    "    price = int(price)\n",
    "    \n",
    "    today = datetime.date.today()\n",
    "    \n",
    "    now = datetime.datetime.now().isoformat(sep=\" \", timespec=\"seconds\")[10:]\n",
    "    \n",
    "    header = ['Title', 'Price EUR', 'Date', 'Time']\n",
    "    \n",
    "    data = [title, price, today, now]\n",
    "    \n",
    "    with open ('AmazonWebScraping.csv', mode ='a+', newline='', encoding='UTF8') as scraped_data:\n",
    "        writer = csv.writer(scraped_data)\n",
    "        writer.writerow(data)\n",
    "    "
   ]
  },
  {
   "cell_type": "code",
   "execution_count": 15,
   "id": "ffac7f1c",
   "metadata": {},
   "outputs": [
    {
     "name": "stdout",
     "output_type": "stream",
     "text": [
      "Timer interrupted by user\n"
     ]
    }
   ],
   "source": [
    "# And also a timer to work with the function\n",
    "\n",
    "while(True):\n",
    "    try:\n",
    "        check_price()\n",
    "        time.sleep(4)\n",
    "    except KeyboardInterrupt:\n",
    "        print('Timer interrupted by user')\n",
    "        break\n",
    "    except Exception as e:\n",
    "        print(f'An error occurred: {e}')\n",
    "       "
   ]
  },
  {
   "cell_type": "code",
   "execution_count": 16,
   "id": "9e30e111",
   "metadata": {},
   "outputs": [
    {
     "data": {
      "text/html": [
       "<div>\n",
       "<style scoped>\n",
       "    .dataframe tbody tr th:only-of-type {\n",
       "        vertical-align: middle;\n",
       "    }\n",
       "\n",
       "    .dataframe tbody tr th {\n",
       "        vertical-align: top;\n",
       "    }\n",
       "\n",
       "    .dataframe thead th {\n",
       "        text-align: right;\n",
       "    }\n",
       "</style>\n",
       "<table border=\"1\" class=\"dataframe\">\n",
       "  <thead>\n",
       "    <tr style=\"text-align: right;\">\n",
       "      <th></th>\n",
       "      <th>Title</th>\n",
       "      <th>Price EUR</th>\n",
       "      <th>Date</th>\n",
       "      <th>Time</th>\n",
       "    </tr>\n",
       "  </thead>\n",
       "  <tbody>\n",
       "    <tr>\n",
       "      <th>0</th>\n",
       "      <td>Apple 2023 MacBook Pro Portátil con Chip M3 Pr...</td>\n",
       "      <td>2599</td>\n",
       "      <td>2024-03-09</td>\n",
       "      <td>11:38:18</td>\n",
       "    </tr>\n",
       "    <tr>\n",
       "      <th>1</th>\n",
       "      <td>Apple 2023 MacBook Pro Portátil con Chip M3 Pr...</td>\n",
       "      <td>2599</td>\n",
       "      <td>2024-03-09</td>\n",
       "      <td>11:38:18</td>\n",
       "    </tr>\n",
       "    <tr>\n",
       "      <th>2</th>\n",
       "      <td>Apple 2023 MacBook Pro Portátil con Chip M3 Pr...</td>\n",
       "      <td>2599</td>\n",
       "      <td>2024-03-09</td>\n",
       "      <td>11:38:23</td>\n",
       "    </tr>\n",
       "    <tr>\n",
       "      <th>3</th>\n",
       "      <td>Apple 2023 MacBook Pro Portátil con Chip M3 Pr...</td>\n",
       "      <td>2599</td>\n",
       "      <td>2024-03-09</td>\n",
       "      <td>11:38:29</td>\n",
       "    </tr>\n",
       "    <tr>\n",
       "      <th>4</th>\n",
       "      <td>Apple 2023 MacBook Pro Portátil con Chip M3 Pr...</td>\n",
       "      <td>2599</td>\n",
       "      <td>2024-03-09</td>\n",
       "      <td>11:38:36</td>\n",
       "    </tr>\n",
       "    <tr>\n",
       "      <th>5</th>\n",
       "      <td>Apple 2023 MacBook Pro Portátil con Chip M3 Pr...</td>\n",
       "      <td>2599</td>\n",
       "      <td>2024-03-09</td>\n",
       "      <td>11:38:42</td>\n",
       "    </tr>\n",
       "    <tr>\n",
       "      <th>6</th>\n",
       "      <td>Apple 2023 MacBook Pro Portátil con Chip M3 Pr...</td>\n",
       "      <td>2599</td>\n",
       "      <td>2024-03-09</td>\n",
       "      <td>11:38:49</td>\n",
       "    </tr>\n",
       "    <tr>\n",
       "      <th>7</th>\n",
       "      <td>Apple 2023 MacBook Pro Portátil con Chip M3 Pr...</td>\n",
       "      <td>2599</td>\n",
       "      <td>2024-03-09</td>\n",
       "      <td>11:38:55</td>\n",
       "    </tr>\n",
       "    <tr>\n",
       "      <th>8</th>\n",
       "      <td>Apple 2023 MacBook Pro Portátil con Chip M3 Pr...</td>\n",
       "      <td>2599</td>\n",
       "      <td>2024-03-09</td>\n",
       "      <td>11:39:01</td>\n",
       "    </tr>\n",
       "    <tr>\n",
       "      <th>9</th>\n",
       "      <td>Apple 2023 MacBook Pro Portátil con Chip M3 Pr...</td>\n",
       "      <td>2599</td>\n",
       "      <td>2024-03-09</td>\n",
       "      <td>11:39:29</td>\n",
       "    </tr>\n",
       "    <tr>\n",
       "      <th>10</th>\n",
       "      <td>Apple 2023 MacBook Pro Portátil con Chip M3 Pr...</td>\n",
       "      <td>2599</td>\n",
       "      <td>2024-03-09</td>\n",
       "      <td>11:39:36</td>\n",
       "    </tr>\n",
       "    <tr>\n",
       "      <th>11</th>\n",
       "      <td>Apple 2023 MacBook Pro Portátil con Chip M3 Pr...</td>\n",
       "      <td>2599</td>\n",
       "      <td>2024-03-09</td>\n",
       "      <td>11:39:42</td>\n",
       "    </tr>\n",
       "    <tr>\n",
       "      <th>12</th>\n",
       "      <td>Apple 2023 MacBook Pro Portátil con Chip M3 Pr...</td>\n",
       "      <td>2599</td>\n",
       "      <td>2024-03-09</td>\n",
       "      <td>11:39:48</td>\n",
       "    </tr>\n",
       "  </tbody>\n",
       "</table>\n",
       "</div>"
      ],
      "text/plain": [
       "                                                Title  Price EUR        Date  \\\n",
       "0   Apple 2023 MacBook Pro Portátil con Chip M3 Pr...       2599  2024-03-09   \n",
       "1   Apple 2023 MacBook Pro Portátil con Chip M3 Pr...       2599  2024-03-09   \n",
       "2   Apple 2023 MacBook Pro Portátil con Chip M3 Pr...       2599  2024-03-09   \n",
       "3   Apple 2023 MacBook Pro Portátil con Chip M3 Pr...       2599  2024-03-09   \n",
       "4   Apple 2023 MacBook Pro Portátil con Chip M3 Pr...       2599  2024-03-09   \n",
       "5   Apple 2023 MacBook Pro Portátil con Chip M3 Pr...       2599  2024-03-09   \n",
       "6   Apple 2023 MacBook Pro Portátil con Chip M3 Pr...       2599  2024-03-09   \n",
       "7   Apple 2023 MacBook Pro Portátil con Chip M3 Pr...       2599  2024-03-09   \n",
       "8   Apple 2023 MacBook Pro Portátil con Chip M3 Pr...       2599  2024-03-09   \n",
       "9   Apple 2023 MacBook Pro Portátil con Chip M3 Pr...       2599  2024-03-09   \n",
       "10  Apple 2023 MacBook Pro Portátil con Chip M3 Pr...       2599  2024-03-09   \n",
       "11  Apple 2023 MacBook Pro Portátil con Chip M3 Pr...       2599  2024-03-09   \n",
       "12  Apple 2023 MacBook Pro Portátil con Chip M3 Pr...       2599  2024-03-09   \n",
       "\n",
       "         Time  \n",
       "0    11:38:18  \n",
       "1    11:38:18  \n",
       "2    11:38:23  \n",
       "3    11:38:29  \n",
       "4    11:38:36  \n",
       "5    11:38:42  \n",
       "6    11:38:49  \n",
       "7    11:38:55  \n",
       "8    11:39:01  \n",
       "9    11:39:29  \n",
       "10   11:39:36  \n",
       "11   11:39:42  \n",
       "12   11:39:48  "
      ]
     },
     "metadata": {},
     "output_type": "display_data"
    }
   ],
   "source": [
    "# Check we have data corresponding to the time spent\n",
    "df = pd.read_csv(r'/Users/danielsmacbookpro/Documents/Coding/Data Analysis Undemy/AmazonWebScraping.csv')\n",
    "display(df)"
   ]
  }
 ],
 "metadata": {
  "kernelspec": {
   "display_name": "Python 3 (ipykernel)",
   "language": "python",
   "name": "python3"
  },
  "language_info": {
   "codemirror_mode": {
    "name": "ipython",
    "version": 3
   },
   "file_extension": ".py",
   "mimetype": "text/x-python",
   "name": "python",
   "nbconvert_exporter": "python",
   "pygments_lexer": "ipython3",
   "version": "3.11.5"
  }
 },
 "nbformat": 4,
 "nbformat_minor": 5
}
