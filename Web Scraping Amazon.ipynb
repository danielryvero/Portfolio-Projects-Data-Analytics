{
 "cells": [
  {
   "cell_type": "markdown",
   "id": "722fde90",
   "metadata": {},
   "source": [
    "## Web Scraping an Amazon page"
   ]
  },
  {
   "cell_type": "markdown",
   "id": "37d72776",
   "metadata": {},
   "source": [
    "In this useful project we are going to explore the basis of \n",
    "Web Scraping and the packages needed to do so.\n",
    "\n",
    "We are going to pull information (specifically the name of the \n",
    "product and its price) directly from this link:\n",
    "https://www.amazon.es/Apple-2023-MacBook-Port%C3%A1til-Chip/dp/B0CM66W4YT/ref=sr_1_3?dib=eyJ2IjoiMSJ9._jo4OKaENbblzd-M4KhXK3ZG4b69ZnUcgyHF9stQ9OH0Rga97Ck6KxIBBZca2iCvgCRiwsg8Zwa5L5e6OVcuCnWfDavA4MPkOaz3FLp3Hwa3E3WSr5-je4Y1Evoi4CrPhZlm0PV9W5OOnRVgNgYEXo_w37TEpIDNDsyHQP3fhNNjLwMBFpq2g9MPMTS2HWjdv8CUtyaK4OCKiDJE8pYpzK1ZsNqK2zfObivFl1QJIbr-aYF_yz8Ye7CWVdB4R_R2eyn7pp1wYvn9dQC5WOnr-9QcT9QmMR6hE96iXrvsGSQ.T11mhfbKDSFalrPaYaWW0qizxMjOdi97WMu1KHNncf0&dib_tag=se&keywords=macbook+pro&qid=1709839898&s=computers&sr=1-3\n",
    "\n",
    "Then we are going to save the information in a csv file in our local machine."
   ]
  },
  {
   "cell_type": "code",
   "execution_count": 1,
   "id": "85df4bcd",
   "metadata": {},
   "outputs": [],
   "source": [
    "from bs4 import BeautifulSoup\n",
    "import requests\n",
    "import time\n",
    "import datetime\n"
   ]
  },
  {
   "cell_type": "code",
   "execution_count": 2,
   "id": "4a67cb16",
   "metadata": {},
   "outputs": [],
   "source": [
    "# Connect to Website selected\n",
    "url = \"https://www.amazon.es/Apple-2023-MacBook-Port%C3%A1til-Chip/dp/B0CM66W4YT/ref=sr_1_3?dib=eyJ2IjoiMSJ9._jo4OKaENbblzd-M4KhXK3ZG4b69ZnUcgyHF9stQ9OH0Rga97Ck6KxIBBZca2iCvgCRiwsg8Zwa5L5e6OVcuCnWfDavA4MPkOaz3FLp3Hwa3E3WSr5-je4Y1Evoi4CrPhZlm0PV9W5OOnRVgNgYEXo_w37TEpIDNDsyHQP3fhNNjLwMBFpq2g9MPMTS2HWjdv8CUtyaK4OCKiDJE8pYpzK1ZsNqK2zfObivFl1QJIbr-aYF_yz8Ye7CWVdB4R_R2eyn7pp1wYvn9dQC5WOnr-9QcT9QmMR6hE96iXrvsGSQ.T11mhfbKDSFalrPaYaWW0qizxMjOdi97WMu1KHNncf0&dib_tag=se&keywords=macbook+pro&qid=1709839898&s=computers&sr=1-3\"\n",
    "\n",
    "# Use headers to ensure that the scraper gets the most relevant and high-quality data\n",
    "# header available in https://httpbin.org/get\n",
    "headers = {\"User-Agent\": \"Mozilla/5.0 (Macintosh; Intel Mac OS X 10_15_7) AppleWebKit/537.36 (KHTML, like Gecko) Chrome/122.0.0.0 Safari/537.36\"}\n",
    "\n",
    "# Send a GET request for the url\n",
    "page = requests.get(url, headers = headers)"
   ]
  },
  {
   "cell_type": "code",
   "execution_count": 3,
   "id": "75662036",
   "metadata": {},
   "outputs": [
    {
     "name": "stdout",
     "output_type": "stream",
     "text": [
      "Apple 2023 MacBook Pro Portátil con Chip M3 Pro: CPU de 11 núcleos, GPU de 14 núcleos, Pantalla Liquid Retina XDR de 14,2 Pulgadas, 18 GB de Memoria unificada, 512 GB de SSD, Plata, Teclado portugués\n"
     ]
    }
   ],
   "source": [
    "# Start using BeautifulSoup to pull the html code from the page\n",
    "soup = BeautifulSoup(page.content, \"html.parser\")\n",
    "\n",
    "# Take a better look at the hmtl extracted\n",
    "soup = BeautifulSoup(soup.prettify(), 'html.parser')\n",
    "\n",
    "# Now we are going to extract the name of the product after doing an inspection\n",
    "# in the page and getting the name of the id needed for the title\n",
    "# get_text method is used to fet rid of the html code around the title information\n",
    "\n",
    "title = soup.find(id='productTitle').get_text().strip()\n",
    "print(title)"
   ]
  },
  {
   "cell_type": "code",
   "execution_count": 4,
   "id": "d7d20bca",
   "metadata": {},
   "outputs": [
    {
     "name": "stdout",
     "output_type": "stream",
     "text": [
      "2599\n"
     ]
    }
   ],
   "source": [
    "# Pull the price in, similar way we obtained the title, pulling only the price\n",
    "price = soup.find_all('span', class_='a-price-whole')[0].get_text().strip().rstrip(',').replace('.', '')\n",
    "price = int(price)\n",
    "\n",
    "print (price)"
   ]
  },
  {
   "cell_type": "code",
   "execution_count": 5,
   "id": "09ccb010",
   "metadata": {},
   "outputs": [
    {
     "data": {
      "text/plain": [
       "int"
      ]
     },
     "execution_count": 5,
     "metadata": {},
     "output_type": "execute_result"
    }
   ],
   "source": [
    "type(price)"
   ]
  },
  {
   "cell_type": "code",
   "execution_count": 6,
   "id": "86c6e36b",
   "metadata": {},
   "outputs": [
    {
     "name": "stdout",
     "output_type": "stream",
     "text": [
      "2024-03-09\n"
     ]
    }
   ],
   "source": [
    "# Using datetime library we can set the date into the file\n",
    "today = datetime.date.today()\n",
    "\n",
    "print(today)"
   ]
  },
  {
   "cell_type": "code",
   "execution_count": 7,
   "id": "f858a1f7",
   "metadata": {},
   "outputs": [
    {
     "name": "stdout",
     "output_type": "stream",
     "text": [
      " 11:20:44\n"
     ]
    }
   ],
   "source": [
    "# Using datetime library we can set timestamp into the file\n",
    "# now = datetime.datetime.now()\n",
    "# now = now.isoformat(timespec=\"seconds\")\n",
    "now=datetime.datetime.now().isoformat(sep=\" \", timespec=\"seconds\")[10:]\n",
    "print(now)"
   ]
  },
  {
   "cell_type": "markdown",
   "id": "d1ba4ecc",
   "metadata": {},
   "source": [
    "### Create csv and insert data into it"
   ]
  },
  {
   "cell_type": "code",
   "execution_count": 8,
   "id": "f6e55284",
   "metadata": {},
   "outputs": [
    {
     "data": {
      "text/plain": [
       "list"
      ]
     },
     "execution_count": 8,
     "metadata": {},
     "output_type": "execute_result"
    }
   ],
   "source": [
    "# For that we must set main parameters\n",
    "header = ['Title', 'Price EUR', 'Date','Time']\n",
    "data = [title, price, today, now]\n",
    "\n",
    "type(data)"
   ]
  },
  {
   "cell_type": "code",
   "execution_count": 9,
   "id": "9fce9cb9",
   "metadata": {},
   "outputs": [],
   "source": [
    "# Create csv, define mode of operation, and how to write content to it\n",
    "# the we define what contents to write to it. Module csv will allow us\n",
    "# to create a file and define how to create newlines and encoding\n",
    "import csv\n",
    "\n",
    "with open ('AmazonWebScraping.csv', mode ='w', newline='', encoding='UTF8') as scraped_data:\n",
    "    writer = csv.writer(scraped_data)\n",
    "    writer.writerow(header)\n",
    "    writer.writerow(data)\n",
    "    "
   ]
  },
  {
   "cell_type": "code",
   "execution_count": 10,
   "id": "9f62cc35",
   "metadata": {},
   "outputs": [
    {
     "name": "stdout",
     "output_type": "stream",
     "text": [
      "                                                    Price EUR        Date  \\\n",
      "Title                                                                       \n",
      "Apple 2023 MacBook Pro Portátil con Chip M3 Pro...       2599  2024-03-09   \n",
      "\n",
      "                                                         Time  \n",
      "Title                                                          \n",
      "Apple 2023 MacBook Pro Portátil con Chip M3 Pro...   11:20:44  \n"
     ]
    }
   ],
   "source": [
    "# Read generated csv file using Pandas\n",
    "import pandas as pd\n",
    "import os\n",
    "df = pd.read_csv(r'/Users/danielsmacbookpro/Documents/Coding/Data Analysis Undemy/AmazonWebScraping.csv', index_col = 0)\n",
    "print(df)"
   ]
  },
  {
   "cell_type": "code",
   "execution_count": 11,
   "id": "3bc2fd1a",
   "metadata": {},
   "outputs": [],
   "source": [
    "# Previous code is for creating a csv with only 1 row. Let's make it possible \n",
    "# to append other rows to the existing file.\n",
    "with open ('AmazonWebScraping.csv', mode ='a+', newline='', encoding='UTF8') as scraped_data:\n",
    "    writer = csv.writer(scraped_data)\n",
    "    writer.writerow(data)\n",
    "    "
   ]
  },
  {
   "cell_type": "code",
   "execution_count": 12,
   "id": "2ff0c3cd",
   "metadata": {},
   "outputs": [],
   "source": [
    "# We can automate the process of checking the price with a function\n",
    "\n",
    "def check_price():\n",
    "    url = \"https://www.amazon.es/Apple-2023-MacBook-Port%C3%A1til-Chip/dp/B0CM66W4YT/ref=sr_1_3?dib=eyJ2IjoiMSJ9._jo4OKaENbblzd-M4KhXK3ZG4b69ZnUcgyHF9stQ9OH0Rga97Ck6KxIBBZca2iCvgCRiwsg8Zwa5L5e6OVcuCnWfDavA4MPkOaz3FLp3Hwa3E3WSr5-je4Y1Evoi4CrPhZlm0PV9W5OOnRVgNgYEXo_w37TEpIDNDsyHQP3fhNNjLwMBFpq2g9MPMTS2HWjdv8CUtyaK4OCKiDJE8pYpzK1ZsNqK2zfObivFl1QJIbr-aYF_yz8Ye7CWVdB4R_R2eyn7pp1wYvn9dQC5WOnr-9QcT9QmMR6hE96iXrvsGSQ.T11mhfbKDSFalrPaYaWW0qizxMjOdi97WMu1KHNncf0&dib_tag=se&keywords=macbook+pro&qid=1709839898&s=computers&sr=1-3\"\n",
    "    \n",
    "    headers = {\"User-Agent\": \"Mozilla/5.0 (Macintosh; Intel Mac OS X 10_15_7) AppleWebKit/537.36 (KHTML, like Gecko) Chrome/122.0.0.0 Safari/537.36\"}\n",
    "\n",
    "    page = requests.get(url, headers = headers)\n",
    "    \n",
    "    soup = BeautifulSoup(page.content, \"html.parser\")\n",
    "\n",
    "    soup = BeautifulSoup(soup.prettify(), 'html.parser')\n",
    "\n",
    "    title = soup.find(id='productTitle').get_text().strip()\n",
    "\n",
    "    price = soup.find_all('span', class_='a-price-whole')[0].get_text().strip().rstrip(',').replace('.', '')\n",
    "    \n",
    "    price = int(price)\n",
    "    \n",
    "    today = datetime.date.today()\n",
    "    \n",
    "    now=datetime.datetime.now().isoformat(sep=\" \", timespec=\"seconds\")[10:]\n",
    "    \n",
    "    header = ['Title', 'Price EUR', 'Date', 'Time']\n",
    "    \n",
    "    data = [title, price, today, now]\n",
    "    \n",
    "    with open ('AmazonWebScraping.csv', mode ='a+', newline='', encoding='UTF8') as scraped_data:\n",
    "        writer = csv.writer(scraped_data)\n",
    "        writer.writerow(data)\n",
    "    "
   ]
  },
  {
   "cell_type": "code",
   "execution_count": 13,
   "id": "12d965ea",
   "metadata": {},
   "outputs": [
    {
     "ename": "KeyboardInterrupt",
     "evalue": "",
     "output_type": "error",
     "traceback": [
      "\u001b[0;31m---------------------------------------------------------------------------\u001b[0m",
      "\u001b[0;31mKeyboardInterrupt\u001b[0m                         Traceback (most recent call last)",
      "Cell \u001b[0;32mIn[13], line 3\u001b[0m\n\u001b[1;32m      1\u001b[0m \u001b[38;5;66;03m# And also a timer to work with the function\u001b[39;00m\n\u001b[1;32m      2\u001b[0m \u001b[38;5;28;01mwhile\u001b[39;00m(\u001b[38;5;28;01mTrue\u001b[39;00m):\n\u001b[0;32m----> 3\u001b[0m     check_price()\n\u001b[1;32m      4\u001b[0m     time\u001b[38;5;241m.\u001b[39msleep(\u001b[38;5;241m4\u001b[39m)\n",
      "Cell \u001b[0;32mIn[12], line 8\u001b[0m, in \u001b[0;36mcheck_price\u001b[0;34m()\u001b[0m\n\u001b[1;32m      4\u001b[0m url \u001b[38;5;241m=\u001b[39m \u001b[38;5;124m\"\u001b[39m\u001b[38;5;124mhttps://www.amazon.es/Apple-2023-MacBook-Port\u001b[39m\u001b[38;5;124m%\u001b[39m\u001b[38;5;124mC3\u001b[39m\u001b[38;5;124m%\u001b[39m\u001b[38;5;124mA1til-Chip/dp/B0CM66W4YT/ref=sr_1_3?dib=eyJ2IjoiMSJ9._jo4OKaENbblzd-M4KhXK3ZG4b69ZnUcgyHF9stQ9OH0Rga97Ck6KxIBBZca2iCvgCRiwsg8Zwa5L5e6OVcuCnWfDavA4MPkOaz3FLp3Hwa3E3WSr5-je4Y1Evoi4CrPhZlm0PV9W5OOnRVgNgYEXo_w37TEpIDNDsyHQP3fhNNjLwMBFpq2g9MPMTS2HWjdv8CUtyaK4OCKiDJE8pYpzK1ZsNqK2zfObivFl1QJIbr-aYF_yz8Ye7CWVdB4R_R2eyn7pp1wYvn9dQC5WOnr-9QcT9QmMR6hE96iXrvsGSQ.T11mhfbKDSFalrPaYaWW0qizxMjOdi97WMu1KHNncf0&dib_tag=se&keywords=macbook+pro&qid=1709839898&s=computers&sr=1-3\u001b[39m\u001b[38;5;124m\"\u001b[39m\n\u001b[1;32m      6\u001b[0m headers \u001b[38;5;241m=\u001b[39m {\u001b[38;5;124m\"\u001b[39m\u001b[38;5;124mUser-Agent\u001b[39m\u001b[38;5;124m\"\u001b[39m: \u001b[38;5;124m\"\u001b[39m\u001b[38;5;124mMozilla/5.0 (Macintosh; Intel Mac OS X 10_15_7) AppleWebKit/537.36 (KHTML, like Gecko) Chrome/122.0.0.0 Safari/537.36\u001b[39m\u001b[38;5;124m\"\u001b[39m}\n\u001b[0;32m----> 8\u001b[0m page \u001b[38;5;241m=\u001b[39m requests\u001b[38;5;241m.\u001b[39mget(url, headers \u001b[38;5;241m=\u001b[39m headers)\n\u001b[1;32m     10\u001b[0m soup \u001b[38;5;241m=\u001b[39m BeautifulSoup(page\u001b[38;5;241m.\u001b[39mcontent, \u001b[38;5;124m\"\u001b[39m\u001b[38;5;124mhtml.parser\u001b[39m\u001b[38;5;124m\"\u001b[39m)\n\u001b[1;32m     12\u001b[0m soup \u001b[38;5;241m=\u001b[39m BeautifulSoup(soup\u001b[38;5;241m.\u001b[39mprettify(), \u001b[38;5;124m'\u001b[39m\u001b[38;5;124mhtml.parser\u001b[39m\u001b[38;5;124m'\u001b[39m)\n",
      "File \u001b[0;32m~/anaconda3/lib/python3.11/site-packages/requests/api.py:73\u001b[0m, in \u001b[0;36mget\u001b[0;34m(url, params, **kwargs)\u001b[0m\n\u001b[1;32m     62\u001b[0m \u001b[38;5;28;01mdef\u001b[39;00m \u001b[38;5;21mget\u001b[39m(url, params\u001b[38;5;241m=\u001b[39m\u001b[38;5;28;01mNone\u001b[39;00m, \u001b[38;5;241m*\u001b[39m\u001b[38;5;241m*\u001b[39mkwargs):\n\u001b[1;32m     63\u001b[0m \u001b[38;5;250m    \u001b[39m\u001b[38;5;124mr\u001b[39m\u001b[38;5;124;03m\"\"\"Sends a GET request.\u001b[39;00m\n\u001b[1;32m     64\u001b[0m \n\u001b[1;32m     65\u001b[0m \u001b[38;5;124;03m    :param url: URL for the new :class:`Request` object.\u001b[39;00m\n\u001b[0;32m   (...)\u001b[0m\n\u001b[1;32m     70\u001b[0m \u001b[38;5;124;03m    :rtype: requests.Response\u001b[39;00m\n\u001b[1;32m     71\u001b[0m \u001b[38;5;124;03m    \"\"\"\u001b[39;00m\n\u001b[0;32m---> 73\u001b[0m     \u001b[38;5;28;01mreturn\u001b[39;00m request(\u001b[38;5;124m\"\u001b[39m\u001b[38;5;124mget\u001b[39m\u001b[38;5;124m\"\u001b[39m, url, params\u001b[38;5;241m=\u001b[39mparams, \u001b[38;5;241m*\u001b[39m\u001b[38;5;241m*\u001b[39mkwargs)\n",
      "File \u001b[0;32m~/anaconda3/lib/python3.11/site-packages/requests/api.py:59\u001b[0m, in \u001b[0;36mrequest\u001b[0;34m(method, url, **kwargs)\u001b[0m\n\u001b[1;32m     55\u001b[0m \u001b[38;5;66;03m# By using the 'with' statement we are sure the session is closed, thus we\u001b[39;00m\n\u001b[1;32m     56\u001b[0m \u001b[38;5;66;03m# avoid leaving sockets open which can trigger a ResourceWarning in some\u001b[39;00m\n\u001b[1;32m     57\u001b[0m \u001b[38;5;66;03m# cases, and look like a memory leak in others.\u001b[39;00m\n\u001b[1;32m     58\u001b[0m \u001b[38;5;28;01mwith\u001b[39;00m sessions\u001b[38;5;241m.\u001b[39mSession() \u001b[38;5;28;01mas\u001b[39;00m session:\n\u001b[0;32m---> 59\u001b[0m     \u001b[38;5;28;01mreturn\u001b[39;00m session\u001b[38;5;241m.\u001b[39mrequest(method\u001b[38;5;241m=\u001b[39mmethod, url\u001b[38;5;241m=\u001b[39murl, \u001b[38;5;241m*\u001b[39m\u001b[38;5;241m*\u001b[39mkwargs)\n",
      "File \u001b[0;32m~/anaconda3/lib/python3.11/site-packages/requests/sessions.py:589\u001b[0m, in \u001b[0;36mSession.request\u001b[0;34m(self, method, url, params, data, headers, cookies, files, auth, timeout, allow_redirects, proxies, hooks, stream, verify, cert, json)\u001b[0m\n\u001b[1;32m    584\u001b[0m send_kwargs \u001b[38;5;241m=\u001b[39m {\n\u001b[1;32m    585\u001b[0m     \u001b[38;5;124m\"\u001b[39m\u001b[38;5;124mtimeout\u001b[39m\u001b[38;5;124m\"\u001b[39m: timeout,\n\u001b[1;32m    586\u001b[0m     \u001b[38;5;124m\"\u001b[39m\u001b[38;5;124mallow_redirects\u001b[39m\u001b[38;5;124m\"\u001b[39m: allow_redirects,\n\u001b[1;32m    587\u001b[0m }\n\u001b[1;32m    588\u001b[0m send_kwargs\u001b[38;5;241m.\u001b[39mupdate(settings)\n\u001b[0;32m--> 589\u001b[0m resp \u001b[38;5;241m=\u001b[39m \u001b[38;5;28mself\u001b[39m\u001b[38;5;241m.\u001b[39msend(prep, \u001b[38;5;241m*\u001b[39m\u001b[38;5;241m*\u001b[39msend_kwargs)\n\u001b[1;32m    591\u001b[0m \u001b[38;5;28;01mreturn\u001b[39;00m resp\n",
      "File \u001b[0;32m~/anaconda3/lib/python3.11/site-packages/requests/sessions.py:747\u001b[0m, in \u001b[0;36mSession.send\u001b[0;34m(self, request, **kwargs)\u001b[0m\n\u001b[1;32m    744\u001b[0m         \u001b[38;5;28;01mpass\u001b[39;00m\n\u001b[1;32m    746\u001b[0m \u001b[38;5;28;01mif\u001b[39;00m \u001b[38;5;129;01mnot\u001b[39;00m stream:\n\u001b[0;32m--> 747\u001b[0m     r\u001b[38;5;241m.\u001b[39mcontent\n\u001b[1;32m    749\u001b[0m \u001b[38;5;28;01mreturn\u001b[39;00m r\n",
      "File \u001b[0;32m~/anaconda3/lib/python3.11/site-packages/requests/models.py:899\u001b[0m, in \u001b[0;36mResponse.content\u001b[0;34m(self)\u001b[0m\n\u001b[1;32m    897\u001b[0m         \u001b[38;5;28mself\u001b[39m\u001b[38;5;241m.\u001b[39m_content \u001b[38;5;241m=\u001b[39m \u001b[38;5;28;01mNone\u001b[39;00m\n\u001b[1;32m    898\u001b[0m     \u001b[38;5;28;01melse\u001b[39;00m:\n\u001b[0;32m--> 899\u001b[0m         \u001b[38;5;28mself\u001b[39m\u001b[38;5;241m.\u001b[39m_content \u001b[38;5;241m=\u001b[39m \u001b[38;5;124mb\u001b[39m\u001b[38;5;124m\"\u001b[39m\u001b[38;5;124m\"\u001b[39m\u001b[38;5;241m.\u001b[39mjoin(\u001b[38;5;28mself\u001b[39m\u001b[38;5;241m.\u001b[39miter_content(CONTENT_CHUNK_SIZE)) \u001b[38;5;129;01mor\u001b[39;00m \u001b[38;5;124mb\u001b[39m\u001b[38;5;124m\"\u001b[39m\u001b[38;5;124m\"\u001b[39m\n\u001b[1;32m    901\u001b[0m \u001b[38;5;28mself\u001b[39m\u001b[38;5;241m.\u001b[39m_content_consumed \u001b[38;5;241m=\u001b[39m \u001b[38;5;28;01mTrue\u001b[39;00m\n\u001b[1;32m    902\u001b[0m \u001b[38;5;66;03m# don't need to release the connection; that's been handled by urllib3\u001b[39;00m\n\u001b[1;32m    903\u001b[0m \u001b[38;5;66;03m# since we exhausted the data.\u001b[39;00m\n",
      "File \u001b[0;32m~/anaconda3/lib/python3.11/site-packages/requests/models.py:816\u001b[0m, in \u001b[0;36mResponse.iter_content.<locals>.generate\u001b[0;34m()\u001b[0m\n\u001b[1;32m    814\u001b[0m \u001b[38;5;28;01mif\u001b[39;00m \u001b[38;5;28mhasattr\u001b[39m(\u001b[38;5;28mself\u001b[39m\u001b[38;5;241m.\u001b[39mraw, \u001b[38;5;124m\"\u001b[39m\u001b[38;5;124mstream\u001b[39m\u001b[38;5;124m\"\u001b[39m):\n\u001b[1;32m    815\u001b[0m     \u001b[38;5;28;01mtry\u001b[39;00m:\n\u001b[0;32m--> 816\u001b[0m         \u001b[38;5;28;01myield from\u001b[39;00m \u001b[38;5;28mself\u001b[39m\u001b[38;5;241m.\u001b[39mraw\u001b[38;5;241m.\u001b[39mstream(chunk_size, decode_content\u001b[38;5;241m=\u001b[39m\u001b[38;5;28;01mTrue\u001b[39;00m)\n\u001b[1;32m    817\u001b[0m     \u001b[38;5;28;01mexcept\u001b[39;00m ProtocolError \u001b[38;5;28;01mas\u001b[39;00m e:\n\u001b[1;32m    818\u001b[0m         \u001b[38;5;28;01mraise\u001b[39;00m ChunkedEncodingError(e)\n",
      "File \u001b[0;32m~/anaconda3/lib/python3.11/site-packages/urllib3/response.py:624\u001b[0m, in \u001b[0;36mHTTPResponse.stream\u001b[0;34m(self, amt, decode_content)\u001b[0m\n\u001b[1;32m    608\u001b[0m \u001b[38;5;250m\u001b[39m\u001b[38;5;124;03m\"\"\"\u001b[39;00m\n\u001b[1;32m    609\u001b[0m \u001b[38;5;124;03mA generator wrapper for the read() method. A call will block until\u001b[39;00m\n\u001b[1;32m    610\u001b[0m \u001b[38;5;124;03m``amt`` bytes have been read from the connection or until the\u001b[39;00m\n\u001b[0;32m   (...)\u001b[0m\n\u001b[1;32m    621\u001b[0m \u001b[38;5;124;03m    'content-encoding' header.\u001b[39;00m\n\u001b[1;32m    622\u001b[0m \u001b[38;5;124;03m\"\"\"\u001b[39;00m\n\u001b[1;32m    623\u001b[0m \u001b[38;5;28;01mif\u001b[39;00m \u001b[38;5;28mself\u001b[39m\u001b[38;5;241m.\u001b[39mchunked \u001b[38;5;129;01mand\u001b[39;00m \u001b[38;5;28mself\u001b[39m\u001b[38;5;241m.\u001b[39msupports_chunked_reads():\n\u001b[0;32m--> 624\u001b[0m     \u001b[38;5;28;01mfor\u001b[39;00m line \u001b[38;5;129;01min\u001b[39;00m \u001b[38;5;28mself\u001b[39m\u001b[38;5;241m.\u001b[39mread_chunked(amt, decode_content\u001b[38;5;241m=\u001b[39mdecode_content):\n\u001b[1;32m    625\u001b[0m         \u001b[38;5;28;01myield\u001b[39;00m line\n\u001b[1;32m    626\u001b[0m \u001b[38;5;28;01melse\u001b[39;00m:\n",
      "File \u001b[0;32m~/anaconda3/lib/python3.11/site-packages/urllib3/response.py:828\u001b[0m, in \u001b[0;36mHTTPResponse.read_chunked\u001b[0;34m(self, amt, decode_content)\u001b[0m\n\u001b[1;32m    825\u001b[0m     \u001b[38;5;28;01mreturn\u001b[39;00m\n\u001b[1;32m    827\u001b[0m \u001b[38;5;28;01mwhile\u001b[39;00m \u001b[38;5;28;01mTrue\u001b[39;00m:\n\u001b[0;32m--> 828\u001b[0m     \u001b[38;5;28mself\u001b[39m\u001b[38;5;241m.\u001b[39m_update_chunk_length()\n\u001b[1;32m    829\u001b[0m     \u001b[38;5;28;01mif\u001b[39;00m \u001b[38;5;28mself\u001b[39m\u001b[38;5;241m.\u001b[39mchunk_left \u001b[38;5;241m==\u001b[39m \u001b[38;5;241m0\u001b[39m:\n\u001b[1;32m    830\u001b[0m         \u001b[38;5;28;01mbreak\u001b[39;00m\n",
      "File \u001b[0;32m~/anaconda3/lib/python3.11/site-packages/urllib3/response.py:758\u001b[0m, in \u001b[0;36mHTTPResponse._update_chunk_length\u001b[0;34m(self)\u001b[0m\n\u001b[1;32m    756\u001b[0m \u001b[38;5;28;01mif\u001b[39;00m \u001b[38;5;28mself\u001b[39m\u001b[38;5;241m.\u001b[39mchunk_left \u001b[38;5;129;01mis\u001b[39;00m \u001b[38;5;129;01mnot\u001b[39;00m \u001b[38;5;28;01mNone\u001b[39;00m:\n\u001b[1;32m    757\u001b[0m     \u001b[38;5;28;01mreturn\u001b[39;00m\n\u001b[0;32m--> 758\u001b[0m line \u001b[38;5;241m=\u001b[39m \u001b[38;5;28mself\u001b[39m\u001b[38;5;241m.\u001b[39m_fp\u001b[38;5;241m.\u001b[39mfp\u001b[38;5;241m.\u001b[39mreadline()\n\u001b[1;32m    759\u001b[0m line \u001b[38;5;241m=\u001b[39m line\u001b[38;5;241m.\u001b[39msplit(\u001b[38;5;124mb\u001b[39m\u001b[38;5;124m\"\u001b[39m\u001b[38;5;124m;\u001b[39m\u001b[38;5;124m\"\u001b[39m, \u001b[38;5;241m1\u001b[39m)[\u001b[38;5;241m0\u001b[39m]\n\u001b[1;32m    760\u001b[0m \u001b[38;5;28;01mtry\u001b[39;00m:\n",
      "File \u001b[0;32m~/anaconda3/lib/python3.11/socket.py:706\u001b[0m, in \u001b[0;36mSocketIO.readinto\u001b[0;34m(self, b)\u001b[0m\n\u001b[1;32m    704\u001b[0m \u001b[38;5;28;01mwhile\u001b[39;00m \u001b[38;5;28;01mTrue\u001b[39;00m:\n\u001b[1;32m    705\u001b[0m     \u001b[38;5;28;01mtry\u001b[39;00m:\n\u001b[0;32m--> 706\u001b[0m         \u001b[38;5;28;01mreturn\u001b[39;00m \u001b[38;5;28mself\u001b[39m\u001b[38;5;241m.\u001b[39m_sock\u001b[38;5;241m.\u001b[39mrecv_into(b)\n\u001b[1;32m    707\u001b[0m     \u001b[38;5;28;01mexcept\u001b[39;00m timeout:\n\u001b[1;32m    708\u001b[0m         \u001b[38;5;28mself\u001b[39m\u001b[38;5;241m.\u001b[39m_timeout_occurred \u001b[38;5;241m=\u001b[39m \u001b[38;5;28;01mTrue\u001b[39;00m\n",
      "File \u001b[0;32m~/anaconda3/lib/python3.11/ssl.py:1311\u001b[0m, in \u001b[0;36mSSLSocket.recv_into\u001b[0;34m(self, buffer, nbytes, flags)\u001b[0m\n\u001b[1;32m   1307\u001b[0m     \u001b[38;5;28;01mif\u001b[39;00m flags \u001b[38;5;241m!=\u001b[39m \u001b[38;5;241m0\u001b[39m:\n\u001b[1;32m   1308\u001b[0m         \u001b[38;5;28;01mraise\u001b[39;00m \u001b[38;5;167;01mValueError\u001b[39;00m(\n\u001b[1;32m   1309\u001b[0m           \u001b[38;5;124m\"\u001b[39m\u001b[38;5;124mnon-zero flags not allowed in calls to recv_into() on \u001b[39m\u001b[38;5;132;01m%s\u001b[39;00m\u001b[38;5;124m\"\u001b[39m \u001b[38;5;241m%\u001b[39m\n\u001b[1;32m   1310\u001b[0m           \u001b[38;5;28mself\u001b[39m\u001b[38;5;241m.\u001b[39m\u001b[38;5;18m__class__\u001b[39m)\n\u001b[0;32m-> 1311\u001b[0m     \u001b[38;5;28;01mreturn\u001b[39;00m \u001b[38;5;28mself\u001b[39m\u001b[38;5;241m.\u001b[39mread(nbytes, buffer)\n\u001b[1;32m   1312\u001b[0m \u001b[38;5;28;01melse\u001b[39;00m:\n\u001b[1;32m   1313\u001b[0m     \u001b[38;5;28;01mreturn\u001b[39;00m \u001b[38;5;28msuper\u001b[39m()\u001b[38;5;241m.\u001b[39mrecv_into(buffer, nbytes, flags)\n",
      "File \u001b[0;32m~/anaconda3/lib/python3.11/ssl.py:1167\u001b[0m, in \u001b[0;36mSSLSocket.read\u001b[0;34m(self, len, buffer)\u001b[0m\n\u001b[1;32m   1165\u001b[0m \u001b[38;5;28;01mtry\u001b[39;00m:\n\u001b[1;32m   1166\u001b[0m     \u001b[38;5;28;01mif\u001b[39;00m buffer \u001b[38;5;129;01mis\u001b[39;00m \u001b[38;5;129;01mnot\u001b[39;00m \u001b[38;5;28;01mNone\u001b[39;00m:\n\u001b[0;32m-> 1167\u001b[0m         \u001b[38;5;28;01mreturn\u001b[39;00m \u001b[38;5;28mself\u001b[39m\u001b[38;5;241m.\u001b[39m_sslobj\u001b[38;5;241m.\u001b[39mread(\u001b[38;5;28mlen\u001b[39m, buffer)\n\u001b[1;32m   1168\u001b[0m     \u001b[38;5;28;01melse\u001b[39;00m:\n\u001b[1;32m   1169\u001b[0m         \u001b[38;5;28;01mreturn\u001b[39;00m \u001b[38;5;28mself\u001b[39m\u001b[38;5;241m.\u001b[39m_sslobj\u001b[38;5;241m.\u001b[39mread(\u001b[38;5;28mlen\u001b[39m)\n",
      "\u001b[0;31mKeyboardInterrupt\u001b[0m: "
     ]
    }
   ],
   "source": [
    "# And also a timer to work with the function\n",
    "while(True):\n",
    "    check_price()\n",
    "    time.sleep(4)"
   ]
  },
  {
   "cell_type": "code",
   "execution_count": 14,
   "id": "138f2c33",
   "metadata": {},
   "outputs": [
    {
     "data": {
      "text/html": [
       "<div>\n",
       "<style scoped>\n",
       "    .dataframe tbody tr th:only-of-type {\n",
       "        vertical-align: middle;\n",
       "    }\n",
       "\n",
       "    .dataframe tbody tr th {\n",
       "        vertical-align: top;\n",
       "    }\n",
       "\n",
       "    .dataframe thead th {\n",
       "        text-align: right;\n",
       "    }\n",
       "</style>\n",
       "<table border=\"1\" class=\"dataframe\">\n",
       "  <thead>\n",
       "    <tr style=\"text-align: right;\">\n",
       "      <th></th>\n",
       "      <th>Title</th>\n",
       "      <th>Price EUR</th>\n",
       "      <th>Date</th>\n",
       "      <th>Time</th>\n",
       "    </tr>\n",
       "  </thead>\n",
       "  <tbody>\n",
       "    <tr>\n",
       "      <th>0</th>\n",
       "      <td>Apple 2023 MacBook Pro Portátil con Chip M3 Pr...</td>\n",
       "      <td>2599</td>\n",
       "      <td>2024-03-09</td>\n",
       "      <td>11:20:44</td>\n",
       "    </tr>\n",
       "    <tr>\n",
       "      <th>1</th>\n",
       "      <td>Apple 2023 MacBook Pro Portátil con Chip M3 Pr...</td>\n",
       "      <td>2599</td>\n",
       "      <td>2024-03-09</td>\n",
       "      <td>11:20:44</td>\n",
       "    </tr>\n",
       "    <tr>\n",
       "      <th>2</th>\n",
       "      <td>Apple 2023 MacBook Pro Portátil con Chip M3 Pr...</td>\n",
       "      <td>2599</td>\n",
       "      <td>2024-03-09</td>\n",
       "      <td>11:20:48</td>\n",
       "    </tr>\n",
       "    <tr>\n",
       "      <th>3</th>\n",
       "      <td>Apple 2023 MacBook Pro Portátil con Chip M3 Pr...</td>\n",
       "      <td>2599</td>\n",
       "      <td>2024-03-09</td>\n",
       "      <td>11:20:54</td>\n",
       "    </tr>\n",
       "    <tr>\n",
       "      <th>4</th>\n",
       "      <td>Apple 2023 MacBook Pro Portátil con Chip M3 Pr...</td>\n",
       "      <td>2599</td>\n",
       "      <td>2024-03-09</td>\n",
       "      <td>11:21:01</td>\n",
       "    </tr>\n",
       "    <tr>\n",
       "      <th>5</th>\n",
       "      <td>Apple 2023 MacBook Pro Portátil con Chip M3 Pr...</td>\n",
       "      <td>2599</td>\n",
       "      <td>2024-03-09</td>\n",
       "      <td>11:21:07</td>\n",
       "    </tr>\n",
       "    <tr>\n",
       "      <th>6</th>\n",
       "      <td>Apple 2023 MacBook Pro Portátil con Chip M3 Pr...</td>\n",
       "      <td>2599</td>\n",
       "      <td>2024-03-09</td>\n",
       "      <td>11:21:14</td>\n",
       "    </tr>\n",
       "    <tr>\n",
       "      <th>7</th>\n",
       "      <td>Apple 2023 MacBook Pro Portátil con Chip M3 Pr...</td>\n",
       "      <td>2599</td>\n",
       "      <td>2024-03-09</td>\n",
       "      <td>11:21:20</td>\n",
       "    </tr>\n",
       "  </tbody>\n",
       "</table>\n",
       "</div>"
      ],
      "text/plain": [
       "                                               Title  Price EUR        Date  \\\n",
       "0  Apple 2023 MacBook Pro Portátil con Chip M3 Pr...       2599  2024-03-09   \n",
       "1  Apple 2023 MacBook Pro Portátil con Chip M3 Pr...       2599  2024-03-09   \n",
       "2  Apple 2023 MacBook Pro Portátil con Chip M3 Pr...       2599  2024-03-09   \n",
       "3  Apple 2023 MacBook Pro Portátil con Chip M3 Pr...       2599  2024-03-09   \n",
       "4  Apple 2023 MacBook Pro Portátil con Chip M3 Pr...       2599  2024-03-09   \n",
       "5  Apple 2023 MacBook Pro Portátil con Chip M3 Pr...       2599  2024-03-09   \n",
       "6  Apple 2023 MacBook Pro Portátil con Chip M3 Pr...       2599  2024-03-09   \n",
       "7  Apple 2023 MacBook Pro Portátil con Chip M3 Pr...       2599  2024-03-09   \n",
       "\n",
       "        Time  \n",
       "0   11:20:44  \n",
       "1   11:20:44  \n",
       "2   11:20:48  \n",
       "3   11:20:54  \n",
       "4   11:21:01  \n",
       "5   11:21:07  \n",
       "6   11:21:14  \n",
       "7   11:21:20  "
      ]
     },
     "metadata": {},
     "output_type": "display_data"
    }
   ],
   "source": [
    "# Check we have data corresponding to the time spent\n",
    "df = pd.read_csv(r'/Users/danielsmacbookpro/Documents/Coding/Data Analysis Undemy/AmazonWebScraping.csv')\n",
    "display(df)"
   ]
  }
 ],
 "metadata": {
  "kernelspec": {
   "display_name": "Python 3 (ipykernel)",
   "language": "python",
   "name": "python3"
  },
  "language_info": {
   "codemirror_mode": {
    "name": "ipython",
    "version": 3
   },
   "file_extension": ".py",
   "mimetype": "text/x-python",
   "name": "python",
   "nbconvert_exporter": "python",
   "pygments_lexer": "ipython3",
   "version": "3.11.5"
  }
 },
 "nbformat": 4,
 "nbformat_minor": 5
}
